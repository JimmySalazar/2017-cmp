{
 "cells": [
  {
   "cell_type": "markdown",
   "metadata": {},
   "source": [
    "## 14.4 Homework\n",
    "\n",
    "Calculate a value for the integral\n",
    "\n",
    "$$ I = \\int_0 ^1 \\frac{x^{-1/2}}{e^x + 1} dx $$\n",
    "\n",
    "using the importance sampling method with $w(x) = x^{-1/2}$, with 1,000,000 random points."
   ]
  },
  {
   "cell_type": "code",
   "execution_count": 10,
   "metadata": {
    "collapsed": false
   },
   "outputs": [
    {
     "name": "stdout",
     "output_type": "stream",
     "text": [
      "1.03743403264\n"
     ]
    }
   ],
   "source": [
    "import random\n",
    "import math\n",
    "import numpy as np\n",
    "\n",
    "# This math was too complex for me so it was difficult to try and understand what I was doing.\n",
    "\n",
    "x = random.randint(0, 1)\n",
    "\n",
    "N = 1000000\n",
    "f = 1/np.sqrt(x)/(np.exp(x)+1)\n",
    "\n",
    "sum = 0.0\n",
    "\n",
    "for i in range(N):\n",
    "    x = random.uniform(0, f)\n",
    "\n",
    "    fx = 1/np.sqrt(x)\n",
    "    pdf = 1 / (f - 0.0)\n",
    "\n",
    "    sum += fx / pdf\n",
    "\n",
    "I = (1 / N) * sum\n",
    "print(I)"
   ]
  },
  {
   "cell_type": "code",
   "execution_count": null,
   "metadata": {
    "collapsed": true
   },
   "outputs": [],
   "source": []
  }
 ],
 "metadata": {
  "kernelspec": {
   "display_name": "Python 3",
   "language": "python",
   "name": "python3"
  },
  "language_info": {
   "codemirror_mode": {
    "name": "ipython",
    "version": 3
   },
   "file_extension": ".py",
   "mimetype": "text/x-python",
   "name": "python",
   "nbconvert_exporter": "python",
   "pygments_lexer": "ipython3",
   "version": "3.6.0"
  }
 },
 "nbformat": 4,
 "nbformat_minor": 2
}
