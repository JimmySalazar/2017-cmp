{
 "cells": [
  {
   "cell_type": "markdown",
   "metadata": {},
   "source": [
    "15.5 Homework (by 10 am Oct 19, 2017)\n",
    "a) Write a program that generates and prints out two random numbers between 1 and 6, to simulate the rolling of two dice.\n",
    "b) Modify your program to simulate the rolling of two dice a million times (N0) and count the number of times you get double six (N1). Calculate the probability of finding double six in your simulations (N1/N0)\n",
    "c) Write a code to generate random integers within [-5, 5], find the magic series of {a, c, m} [Don't use the built-in function in numpy]"
   ]
  },
  {
   "cell_type": "code",
   "execution_count": 21,
   "metadata": {
    "collapsed": false
   },
   "outputs": [
    {
     "name": "stdout",
     "output_type": "stream",
     "text": [
      "[1, 6]\n"
     ]
    }
   ],
   "source": [
    "# Part A\n",
    "\n",
    "import secrets\n",
    "\n",
    "num = []\n",
    "count = 0\n",
    "\n",
    "while count < 2:\n",
    "    dice = list(range(1, 7))\n",
    "    roll = secrets.choice(dice)\n",
    "    num.append(roll)\n",
    "    count += 1\n",
    "print(num)"
   ]
  },
  {
   "cell_type": "code",
   "execution_count": 93,
   "metadata": {
    "collapsed": false
   },
   "outputs": [
    {
     "name": "stdout",
     "output_type": "stream",
     "text": [
      "40682\n",
      "20341\n",
      "Probability for Double Six is: 2.0341 %\n"
     ]
    }
   ],
   "source": [
    "# Part B\n",
    "\n",
    "import secrets\n",
    "\n",
    "num = []\n",
    "count = 0\n",
    "N = 1000000\n",
    "\n",
    "for i in range(N):\n",
    "    dice = list(range(1, 7))\n",
    "    roll1 = secrets.choice(dice)\n",
    "    roll2 = secrets.choice(dice)\n",
    "    if roll1 == 6 and roll2 == 6:\n",
    "        num.append(roll1)\n",
    "        num.append(roll2)\n",
    "    count += 1\n",
    "\n",
    "#print(num)\n",
    "print(len(num))\n",
    "\n",
    "total = int(len(num) / 2)\n",
    "\n",
    "print(total)\n",
    "print(\"Probability for Double Six is: \" + (str((total/N) *100)) + \" %\")\n"
   ]
  },
  {
   "cell_type": "code",
   "execution_count": 92,
   "metadata": {
    "collapsed": false
   },
   "outputs": [
    {
     "data": {
      "image/png": "[encoded data removed]",
      "text/plain": [
       "<matplotlib.figure.Figure at 0x2a4c47262b0>"
      ]
     },
     "metadata": {},
     "output_type": "display_data"
    },
    {
     "data": {
      "image/png": "[encoded data removed]",
      "text/plain": [
       "<matplotlib.figure.Figure at 0x2a4c4476f98>"
      ]
     },
     "metadata": {},
     "output_type": "display_data"
    }
   ],
   "source": [
    "# Part C\n",
    "\n",
    "import matplotlib.pyplot as plt\n",
    "\n",
    "N = 100\n",
    "a = 80923\n",
    "c = 2732\n",
    "m = 324\n",
    "x = 1\n",
    "results = []\n",
    "\n",
    "for i in range(N):\n",
    "    x = (a*x+c)%m\n",
    "    results.append(x)\n",
    "plt.plot(results,\"o\")\n",
    "plt.show()\n",
    "\n",
    "plt.hist(results)\n",
    "plt.show()"
   ]
  },
  {
   "cell_type": "code",
   "execution_count": null,
   "metadata": {
    "collapsed": true
   },
   "outputs": [],
   "source": []
  }
 ],
 "metadata": {
  "kernelspec": {
   "display_name": "Python 3",
   "language": "python",
   "name": "python3"
  },
  "language_info": {
   "codemirror_mode": {
    "name": "ipython",
    "version": 3
   },
   "file_extension": ".py",
   "mimetype": "text/x-python",
   "name": "python",
   "nbconvert_exporter": "python",
   "pygments_lexer": "ipython3",
   "version": "3.6.0"
  }
 },
 "nbformat": 4,
 "nbformat_minor": 2
}
